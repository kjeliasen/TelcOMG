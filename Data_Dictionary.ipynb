{
 "cells": [
  {
   "cell_type": "markdown",
   "metadata": {},
   "source": [
    "### Data Dictionary"
   ]
  },
  {
   "cell_type": "markdown",
   "metadata": {},
   "source": [
    "Field Name|Data in field|Data Type\n",
    ":--- | :--- | :---\n",
    "**customer_id**|Unique identifier *Turned into index*|object\n",
    "**gender**|'Male' or 'Female'|category\n",
    "**is_male**|True if is gender = 'Male'|bool\n",
    "**is_female**|True  if gender = 'Female'|bool\n",
    "**senior_citizen**|True  if customer is a senior citizen|bool\n",
    "**partner**|True  if customer has a partner|bool\n",
    "**dependents**|True  if customer has dependents|bool\n",
    "**family**|True if customer has a partner and/or has dependents|bool\n",
    "**partner_deps**|Categorical, 'has' or 'no' for partner and dependents|category\n",
    "**tenure**|Number of months customer has been active; remains static once customer has churned|Int64\n",
    "**tenure_years**|Number of complete years customer has been active; remains static once customer has churned|Int64\n",
    "**contract_renews**|Number of times customer has exceeded their term length if not month-to-month|Int64\n",
    "**remaining_months**|Months remaining on current contract|int64\n",
    "**thru_first_month**|True if customer has a tenure greater than 1|bool\n",
    "**thru_first_quarter**|True if customer has a tenure greater than 2|bool\n",
    "**thru_first_half**|True if customer has a tenure greater than 5|bool\n",
    "**thru_first_year:**|True if customer has a tenure greater than 11|bool\n",
    "**thru_first_term**|True if customer has exceeded a full term of their contract|bool\n",
    "**phone_service**|True if customer has phone service|bool\n",
    "**multiple_lines**|True if customer has multiple lines|bool\n",
    "**phone_service_id**|Categorical, numeric ID for type of phone service|category\n",
    "**phone_service_type**|Categorical, description of phone service type|category\n",
    "**internet_service_type_id**|Categorical, numeric ID for type of phone service|category\n",
    "**internet_service_type**|Categorical, description of internet service type|category\n",
    "**internet_service**|True if customer has an internet service type|bool\n",
    "**has_dsl**|True if customer has DSL internet service|bool\n",
    "**has_fiber**|True if customer has Fiber Optic internet service|bool\n",
    "**online_security**|True if custmer registerd for online security|bool\n",
    "**online_backup**|True if customer registered for online backup|bool\n",
    "**online_security_backup**|True if customer registered for online security and/or online backup|bool\n",
    "**device_protection**|True if customer registered for device protections|bool\n",
    "**tech_support**|True if customer registered for tech support|bool\n",
    "**streaming_tv**|True if customer registered for streaming TV channels|bool\n",
    "**streaming_movies**|True if customer registered for streaming movies|bool\n",
    "**streaming_services**|True if customer registered for streaming TV channels and/or movies|bool\n",
    "**streaming_dsl**|True if customer has DSL internet service and registered for streaming TV channels and/or movies|bool\n",
    "**streaming_fiber**|True if customer has DSL internet service and registered for streaming TV channels and/or movies|bool\n",
    "**contract_type_id**|Categorical, numeric ID for type of contract (1 = month-to-month, 2 = annual, 3 = two-year)|category\n",
    "**contract_type**|Categorical, descriptive ID for type of contract|category\n",
    "**on_contract**|True if customer has an annual or two-year contract|bool\n",
    "**contract_duration**|Customer's contractual term in months (1, 12, or 24)|int64\n",
    "**paperless_billing**|True if customer registered for paperless billing|bool\n",
    "**payment_type_id**|Categorical, numeric ID for method of payment|category\n",
    "**payment_type**|Categorical, description of method of payment and indicator if payment method is automatic|category\n",
    "**auto_pay**|True if customer payment type is defined as automatic|bool\n",
    "**manual_mtm**|True if payment is not automatic and customer is not on contract|bool\n",
    "**monthly_charges**|Current monthly charges for customer|float\n",
    "**avg_monthly_variance**|Calculated difference between projected monthly rate based on total charges and stated monthly rate|float\n",
    "**churn**|True if customer has churned. *Target variable.*|bool"
   ]
  }
 ],
 "metadata": {
  "kernelspec": {
   "display_name": "Python 3",
   "language": "python",
   "name": "python3"
  },
  "language_info": {
   "codemirror_mode": {
    "name": "ipython",
    "version": 3
   },
   "file_extension": ".py",
   "mimetype": "text/x-python",
   "name": "python",
   "nbconvert_exporter": "python",
   "pygments_lexer": "ipython3",
   "version": "3.7.3"
  }
 },
 "nbformat": 4,
 "nbformat_minor": 2
}
